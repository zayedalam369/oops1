{
  "cells": [
    {
      "cell_type": "markdown",
      "metadata": {
        "id": "UflsmB0hhYP_"
      },
      "source": [
        "What is Object-Oriented Programming (OOP)?\n",
        "- Object-Oriented Programming (OOP) is a programming paradigm, or style, that is built around the concept of \"objects\". These objects can contain both data, in the form of fields or attributes, and code, in the form of procedures or methods. Instead of focusing on procedures to manipulate data, OOP structures programs around objects which combine data and functionality.\n"
      ]
    },
    {
      "cell_type": "markdown",
      "metadata": {
        "id": "WySvlO4rhvg6"
      },
      "source": [
        "What is a class in OOP?\n",
        "- In OOP, a class is a blueprint or template for creating objects. It defines the properties (attributes) and behaviors (methods) that objects of that class will have.\n",
        "\n",
        "Think of it like this:\n",
        "\n",
        "Class: A cookie cutter\n",
        "Object: The cookies made using the cutter\n",
        "The cookie cutter determines the shape and size of the cookies, just like a class determines the structure and capabilities of its objects. Each cookie is an individual instance, just like each object is a unique instance of a class."
      ]
    },
    {
      "cell_type": "markdown",
      "metadata": {
        "id": "yfvBEWzYh256"
      },
      "source": [
        "What is an object in OOP?\n",
        "- In OOP, an object is an instance of a class. It's a concrete realization of the blueprint defined by the class. Think of it like this:\n",
        "\n",
        "Class: The blueprint for a house (defines rooms, doors, windows, etc.)\n",
        "Object: An actual house built using that blueprint\n",
        "Each house built from the blueprint is a unique object with its own specific features (e.g., color, location, furniture). Similarly, each object created from a class has its own set of attributes and methods.\n",
        "\n",
        "Here's a breakdown:\n",
        "\n",
        "Instance of a Class: An object is created from a class and represents a specific instance of that class. It inherits the properties (attributes) and behaviors (methods) defined by the class.\n",
        "State and Behavior: An object has a state, which is represented by its attributes (data values), and behavior, which is represented by its methods (actions it can perform).\n",
        "Unique Identity: Each object has a unique identity, even if it has the same attribute values as another object of the same class. This allows you to distinguish between different objects."
      ]
    },
    {
      "cell_type": "markdown",
      "metadata": {
        "id": "VG3Qw1a9iOTN"
      },
      "source": [
        "What is the difference between abstraction and encapsulation?\n",
        "- Okay, let's differentiate between abstraction and encapsulation in Object-Oriented Programming (OOP):\n",
        "\n",
        "Both abstraction and encapsulation are key concepts in OOP, but they serve different purposes and have distinct characteristics.\n",
        "\n",
        "Abstraction\n",
        "\n",
        "Abstraction is the process of simplifying complex systems by hiding unnecessary details and exposing only essential information to the user. It focuses on presenting a high-level view of an object, allowing users to interact with it without needing to understand its internal workings.\n",
        "\n",
        "Think of it like this:\n",
        "\n",
        "When you drive a car, you don't need to know how the engine, transmission, and other internal components work. You simply use the steering wheel, pedals, and gear shifter to control the car. This is abstraction - hiding the complexity and providing a simplified interface.\n",
        "\n",
        "Key aspects of abstraction:\n",
        "\n",
        "Hiding complexity: Abstraction hides the internal details of an object, making it easier to understand and use.\n",
        "Presenting essential information: It exposes only the necessary information to the user, relevant to their interaction with the object.\n",
        "Simplifying interactions: Abstraction simplifies the way users interact with objects, allowing them to focus on the desired functionality without getting bogged down in implementation details.\n",
        "Encapsulation\n",
        "\n",
        "Encapsulation is the process of bundling data (attributes) and methods that operate on that data within a single unit (the object). It restricts direct access to an object's internal state and enforces interactions through well-defined interfaces.\n",
        "\n",
        "Think of it like this:\n",
        "\n",
        "A capsule containing medicine encapsulates the ingredients and protects them from external contamination. You interact with the capsule by swallowing it, not by directly accessing its contents. This is encapsulation - protecting data and controlling access to it.\n",
        "\n",
        "Key aspects of encapsulation:\n",
        "\n",
        "Data protection: Encapsulation safeguards an object's data by preventing direct access from outside the object.\n",
        "Controlled access: It provides controlled access to data through methods, ensuring data integrity and consistency.\n",
        "Information hiding: Encapsulation hides the internal implementation details of an object, allowing for changes without affecting external code.\n",
        "Difference between Abstraction and Encapsulation\n",
        "\n",
        "While both concepts are related, their focus is different:\n",
        "\n",
        "Abstraction focuses on what an object does, providing a simplified view of its functionality.\n",
        "Encapsulation focuses on how an object does it, protecting data and controlling access to its internal state."
      ]
    },
    {
      "cell_type": "markdown",
      "metadata": {
        "id": "44AfmmM3ibhb"
      },
      "source": [
        "What are dunder methods in Python?\n",
        "- Okay, let's discuss dunder methods in Python:\n",
        "\n",
        "- In Python, dunder methods (also called \"special methods\" or \"magic methods\") are methods with double underscores before and after their names (e.g., __init__, __str__, __add__). These methods have special significance in Python and are used to define how objects behave in certain situations.\n",
        "\n",
        "- Key features of dunder methods:\n",
        "\n",
        "- Special Behavior: Dunder methods are not meant to be called directly by the user. Instead, they are triggered automatically by Python in response to specific operations or events. For example, the __init__ method is called when an object is created, and the __str__ method is called when you try to print an object.\n",
        "Operator Overloading: Dunder methods allow you to define how objects of your class behave when used with operators like +, -, *, /, etc. This is known as operator overloading. For example, you can define the __add__ method to specify how two objects of your class should be added together.\n",
        "Customization: Dunder methods provide a way to customize the behavior of your classes and objects, making them more versatile and powerful.\n",
        "Common Dunder Methods:\n",
        "\n",
        "- Here are a few examples of commonly used dunder methods:\n",
        "\n",
        "- __init__: Called when an object is created. Used to initialize the object's attributes.\n",
        "- __str__: Called when you try to print an object. Returns a string representation of the object.\n",
        "- __repr__: Called when you use the repr() function on an object. Returns a more detailed string representation, often used for debugging.\n",
        "- __len__: Called when you use the len() function on an object. Returns the length of the object.\n",
        "- __add__: Called when you use the + operator with two objects. Defines how the objects should be added together.\n",
        "- __eq__: Called when you use the == operator to compare two objects. Defines how equality is determined for the objects."
      ]
    },
    {
      "cell_type": "markdown",
      "metadata": {
        "id": "VnGL6xNNi_Lq"
      },
      "source": [
        "Explain the concept of inheritance in OOP?\n",
        "- Inheritance is a mechanism that allows a class to inherit properties and behaviors from another class. It's a fundamental concept in OOP that promotes code reusability and reduces code duplication.\n",
        "\n",
        "Think of it like this:\n",
        "\n",
        "A child inherits traits from their parents, such as eye color, hair color, and height. Similarly, in OOP, a child class (or subclass) inherits attributes and methods from its parent class (or superclass).\n",
        "\n",
        "Here's a breakdown:\n",
        "\n",
        "- Parent Class (Superclass): The class being inherited from. It provides the base functionality and attributes.\n",
        "- Child Class (Subclass): The class that inherits from the parent class. It inherits the parent's functionality and can add its own unique attributes and methods.\n",
        "- Code Reusability: Inheritance allows you to reuse code from existing classes, reducing the need to write the same code multiple times.\n",
        "- Extensibility: Child classes can extend the functionality of the parent class by adding new attributes and methods or overriding existing ones."
      ]
    },
    {
      "cell_type": "markdown",
      "metadata": {
        "id": "U38lsbFGjNTX"
      },
      "source": [
        "What is polymorphism in OOP?\n",
        "- Okay, let's discuss polymorphism in Object-Oriented Programming (OOP):\n",
        "\n",
        "Polymorphism, meaning \"many forms,\" is a concept in OOP that allows objects of different classes to be treated as objects of a common type. It enables you to write code that can work with objects of various classes without needing to know their specific types.\n",
        "\n",
        "Here's a breakdown:\n",
        "\n",
        "- Flexibility: Polymorphism provides flexibility by allowing you to write code that can operate on objects of different classes through a common interface.\n",
        "- Method Overriding: A key aspect of polymorphism is method overriding, where a child class provides a specific implementation for a method that is already defined in its parent class. This allows objects of different classes to respond differently to the same method call.\n",
        "- Duck Typing: Python supports \"duck typing,\" which means that the type of an object is less important than whether it has the methods or attributes needed for a particular operation. If it walks like a duck and quacks like a duck, it's treated as a duck.\n",
        "- Dynamic Binding: Polymorphism involves dynamic binding, where the specific method implementation to be executed is determined at runtime based on the type of the object."
      ]
    },
    {
      "cell_type": "markdown",
      "metadata": {
        "id": "eVTZg-Evjehp"
      },
      "source": [
        " How is encapsulation achieved in Python\n",
        " - Encapsulation in Python is achieved using a combination of:\n",
        "\n",
        "Classes and Objects: Classes provide a structure for bundling data (attributes) and methods that operate on that data within a single unit (the object). Objects are instances of classes, representing specific entities with their own state and behavior.\n",
        "\n",
        "- Access Modifiers: Python uses naming conventions to define access levels for attributes and methods:\n",
        "\n",
        "- Public: Attributes and methods without any leading underscores are considered public and can be accessed from anywhere. (e.g., name, age, bark())\n",
        "- Protected: Attributes and methods with a single leading underscore are considered protected and should not be accessed directly from outside the class, but can be accessed within subclasses. (e.g., _name, _age, _calculate_area())\n",
        "- Private: Attributes and methods with two leading underscores are considered private and are intended for internal use within the class. They are name-mangled to make them more difficult to access from outside the class. (e.g., __name, __age, __process_data())\n",
        "Getter and Setter Methods: To provide controlled access to protected or private attributes, you can define getter and setter methods:\n",
        "\n",
        "- Getter: A method that retrieves the value of an attribute. (e.g., get_name())\n",
        "Setter: A method that modifies the value of an attribute. (e.g., set_name())"
      ]
    },
    {
      "cell_type": "markdown",
      "metadata": {
        "id": "a4GOMZbljzRC"
      },
      "source": [
        "What is a constructor in Python\n",
        "- In Python, a constructor is a special method called __init__ that is automatically executed when an object of a class is created. It is used to initialize the attributes of the object with default or user-defined values.\n",
        "\n",
        "- Purpose of a Constructor:\n",
        "\n",
        "- Initialization: The primary purpose of a constructor is to initialize the attributes of an object. This ensures that the object is in a valid state when it is created.\n",
        "- Setting Default Values: You can use the constructor to set default values for attributes, which will be used if the user does not provide specific values during object creation.\n",
        "- Performing Setup: The constructor can also be used to perform any necessary setup or configuration for the object."
      ]
    },
    {
      "cell_type": "markdown",
      "metadata": {
        "id": "pBfcx4zgkBoB"
      },
      "source": [
        "What are class and static methods in Python?\n",
        "- Both class and static methods are special types of methods that are associated with a class rather than an instance of the class. They are defined using decorators: @classmethod and @staticmethod, respectively.\n",
        "\n",
        "Class Methods\n",
        "\n",
        "Purpose: Class methods are methods that are bound to the class and not the instance of the class. They have access to the class itself and can modify its state. They are often used as factory methods to create instances of the class in different ways."
      ]
    },
    {
      "cell_type": "markdown",
      "metadata": {
        "id": "vT565YlbkOI7"
      },
      "source": [
        "What is method overloading in Python?\n",
        "- Method overloading is the ability to define multiple methods with the same name but with different parameters in the same class. This allows you to perform different operations based on the types or number of arguments passed to the method.\n",
        "\n",
        "How it Works (or Doesn't) in Python:\n",
        "\n",
        "Python's Dynamic Typing: Python is a dynamically typed language, which means that the type of a variable is not known until runtime. This makes traditional method overloading, as seen in languages like Java or C++, not directly supported.\n",
        "Last Definition Wins: If you define multiple methods with the same name in Python, the last definition will override the previous ones. This means that only the most recent definition will be used when the method is called.\n",
        "Workarounds for Method Overloading:\n",
        "\n",
        "While Python doesn't have built-in method overloading in the traditional sense, there are ways to achieve similar behavior:"
      ]
    },
    {
      "cell_type": "markdown",
      "metadata": {
        "id": "W0XWAejCkdpl"
      },
      "source": [
        "What is method overriding in OOP\n",
        "- Method overriding is a language feature that allows a subclass or child class to provide a specific implementation of a method that is already provided by one of its superclasses or parent classes.\n",
        "\n",
        "How it Works:\n",
        "\n",
        "- Inheritance: Method overriding is closely related to inheritance. A subclass inherits methods from its superclass.\n",
        "- Redefining a Method: If a subclass needs to modify the behavior of an inherited method, it can redefine the method with the same name and parameters in its own definition. This is called method overriding.\n",
        "- Calling the Overridden Method: When the overridden method is called on an object of the subclass, the subclass's implementation is executed instead of the superclass's implementation.\n",
        "- Polymorphism: Method overriding is a key aspect of polymorphism, allowing objects of different classes to respond differently to the same method call"
      ]
    },
    {
      "cell_type": "markdown",
      "metadata": {
        "id": "Ur0EA8qLk0z_"
      },
      "source": [
        "What is a property decorator in Python?\n",
        "- In Python, the property decorator is a built-in decorator that is used to define properties in a class. Properties provide a way to manage attributes with controlled access and custom behavior.\n",
        "\n",
        "How it Works:\n",
        "\n",
        "The property decorator allows you to define getter, setter, and deleter methods for an attribute, making it behave like a regular attribute while providing additional control over its access and modification.\n",
        "\n",
        "Syntax:\n",
        "\n",
        "\n",
        "class MyClass:\n",
        "    def __init__(self, value):\n",
        "        self._x = value  # Private attribute\n",
        "\n",
        "    @property\n",
        "    def x(self):  # Getter method\n",
        "        return self._x\n",
        "\n",
        "    @x.setter\n",
        "    def x(self, value):  # Setter method\n",
        "        if value >= 0:\n",
        "            self._x = value\n",
        "        else:\n",
        "            raise ValueError(\"Value must be non-negative.\")\n",
        "\n",
        "    @x.deleter\n",
        "    def x(self):  # Deleter method\n",
        "        del self._x\n",
        "Use code with caution\n",
        "Getter: The getter method is decorated with @property and is used to retrieve the value of the attribute.\n",
        "Setter: The setter method is decorated with @attribute.setter and is used to modify the value of the attribute. It can include validation or other logic to control the assignment.\n",
        "Deleter: The deleter method is decorated with @attribute.deleter and is used to delete the attribute."
      ]
    },
    {
      "cell_type": "markdown",
      "metadata": {
        "id": "OnzWeZmIldXj"
      },
      "source": [
        "Why is polymorphism important in OOP?\n",
        "- Polymorphism, meaning \"many forms,\" is a fundamental concept in OOP that allows objects of different classes to be treated as objects of a common type. This flexibility and ability to handle diverse objects through a uniform interface brings several key benefits:\n",
        "\n",
        "1. Flexibility and Code Reusability:\n",
        "\n",
        "Generic Code: Polymorphism enables you to write generic code that can work with objects of various classes without needing to know their specific types. This reduces code duplication and makes your code more adaptable to changes.\n",
        "Extensibility: You can easily add new classes or modify existing ones without affecting the overall structure of your program. Polymorphism ensures that your code remains compatible with these changes.\n",
        "2. Maintainability and Simplicity:\n",
        "\n",
        "Reduced Complexity: Polymorphism simplifies the interactions between objects, making your code easier to understand and maintain. You can treat objects of different classes uniformly, reducing the need for complex conditional logic.\n",
        "Enhanced Readability: Code that utilizes polymorphism is often more concise and readable, as it focuses on the common interface rather than the specific implementation details of each class.\n",
        "3. Adaptability and Evolution:\n",
        "\n",
        "Future-Proofing: Polymorphism helps to future-proof your code by allowing it to adapt to new requirements and changes in the system. You can easily introduce new classes or modify existing ones without disrupting the overall functionality.\n",
        "Dynamic Behavior: Polymorphism enables dynamic behavior in your programs. The specific method implementation to be executed is determined at runtime based on the type of the object, allowing for greater flexibility and responsiveness.\n",
        "4. Real-World Modeling:\n",
        "\n",
        "Representing Diversity: Polymorphism is crucial for modeling real-world scenarios where objects of different types interact with each other. It allows you to represent the diversity of objects and their behaviors in a natural and intuitive way.\n",
        "Abstraction: Polymorphism supports abstraction by allowing you to focus on the essential characteristics of objects rather than their specific implementation details. This makes your code more modular and easier to reason about"
      ]
    },
    {
      "cell_type": "markdown",
      "metadata": {
        "id": "5rp3ihcYl0Gl"
      },
      "source": [
        "What is an abstract class in Python?\n",
        "- In Python, an abstract class is a class that cannot be instantiated directly. It serves as a blueprint for other classes (subclasses) and defines a common interface that they must implement. Abstract classes typically contain one or more abstract methods, which are declared but do not have any implementation in the abstract class itself.\n",
        "\n",
        "Purpose of Abstract Classes:\n",
        "\n",
        "Enforcing an Interface: Abstract classes ensure that subclasses adhere to a specific structure and provide implementations for certain methods.\n",
        "Code Reusability: They promote code reuse by defining common functionality in the abstract class, which can be inherited by subclasses.\n",
        "Polymorphism: They support polymorphism by allowing objects of different subclasses to be treated as objects of the abstract class type.\n",
        "Creating Abstract Classes:\n",
        "\n",
        "To create an abstract class in Python, you need to use the abc module (Abstract Base Classes). Here's an example:\n",
        "\n",
        "\n",
        "from abc import ABC, abstractmethod\n",
        "\n",
        "class Shape(ABC):  # Abstract class\n",
        "    @abstractmethod\n",
        "    def area(self):\n",
        "        pass  # No implementation in the abstract class\n",
        "\n",
        "    @abstractmethod\n",
        "    def perimeter(self):\n",
        "        pass\n",
        "Use code with caution\n",
        "ABC: The Shape class inherits from ABC to indicate that it is an abstract class.\n",
        "abstractmethod: The abstractmethod decorator is used to declare abstract methods (area and perimeter).\n",
        "Implementing Abstract Classes:\n",
        "\n",
        "Subclasses of an abstract class must provide concrete implementations for all abstract methods defined in the abstract class. Here's an example:\n",
        "\n",
        "\n",
        "class Circle(Shape):\n",
        "    def __init__(self, radius):\n",
        "        self.radius = radius\n",
        "\n",
        "    def area(self):\n",
        "        return 3.14 * self.radius * self.radius\n",
        "\n",
        "    def perimeter(self):\n",
        "        return 2 * 3.14 * self.radius\n",
        "\n",
        "class Square(Shape):\n",
        "    def __init__(self, side):\n",
        "        self.side = side\n",
        "\n",
        "    def area(self):\n",
        "        return self.side * self.side\n",
        "\n",
        "    def perimeter(self):\n",
        "        return 4 * self.side\n",
        "Use code with caution\n",
        "Concrete Implementations: The Circle and Square classes provide implementations for the area and perimeter methods.\n",
        "Benefits of Using Abstract Classes:\n",
        "\n",
        "Enforced Structure: Ensures that subclasses follow a specific interface.\n",
        "Code Reusability: Promotes code reuse by defining common functionality in the abstract class.\n",
        "Polymorphism: Enables objects of different subclasses to be treated as objects of the abstract class type.\n",
        "Maintainability: Makes code easier to maintain and extend by providing a clear structure and interface.\n"
      ]
    },
    {
      "cell_type": "markdown",
      "metadata": {
        "id": "Ka2Qdiq8mI9X"
      },
      "source": [
        "What are the advantages of OOP?\n",
        "- OOP offers several benefits that make it a popular and powerful programming paradigm:\n",
        "\n",
        "1.Modularity and Reusability:\n",
        "- Code Organization: OOP promotes modularity by organizing code into classes and objects. This makes code easier to understand, manage, and maintain, especially in large projects.\n",
        "- Code Reusability: Classes and objects can be reused in different parts of a program or in different projects, reducing code duplication and development time. Inheritance further enhances reusability by allowing new classes to inherit functionality from existing ones.\n",
        "2.Data Security and Encapsulation:\n",
        "- Data Protection: OOP provides mechanisms for data protection through encapsulation. By bundling data and methods within objects, you can restrict direct access to the data from outside the object. This helps prevent accidental or unauthorized modification of data.\n",
        "- Information Hiding: Encapsulation also supports information hiding, which means that the internal implementation details of a class are hidden from the outside world. This allows you to change the implementation without affecting other parts of the program that use the class.\n",
        "3.Flexibility and Extensibility:\n",
        "- Adaptability: OOP allows for greater flexibility in software design. You can easily modify or extend the functionality of a program by adding new classes or modifying existing ones.\n",
        "- Polymorphism: Polymorphism, a key concept in OOP, enables objects of different classes to be treated as objects of a common type. This allows you to write generic code that can work with objects of various classes, making your code more adaptable to changes.\n",
        "4.Improved Collaboration and Maintainability:\n",
        "- Teamwork: OOP facilitates collaboration among developers by providing a clear structure for code organization. Different developers can work on different classes or modules independently, and the code can be integrated seamlessly.\n",
        "- Maintainability: OOP makes code easier to maintain and debug. Modularity and encapsulation help isolate problems and make it easier to identify and fix errors.\n",
        "5.Real-World Modeling:\n",
        "- Natural Representation: OOP allows you to model real-world entities and their interactions in a more natural and intuitive way. Objects and classes can represent real-world objects and their relationships.\n",
        "- Problem Decomposition: OOP supports problem decomposition by breaking down complex problems into smaller, more manageable objects and classes. This makes it easier to design and implement solutions.\n"
      ]
    },
    {
      "cell_type": "markdown",
      "metadata": {
        "id": "m4QWkMPUnH8F"
      },
      "source": [
        "What is the difference between a class variable and an instance variable?\n",
        "- Class Variables\n",
        "\n",
        "Definition: Class variables are variables that are shared by all instances (objects) of a class. They are defined within the class but outside of any methods.\n",
        "Scope: They are accessible to all instances of the class and can be accessed using the class name or any instance of the class.\n",
        "Modification: Modifying a class variable affects all instances of the class.\n",
        "Declaration: They are typically declared directly within the class definition, outside of any methods.\n",
        "Instance Variables\n",
        "\n",
        "Definition: Instance variables are variables that are unique to each instance (object) of a class. They are defined within the constructor (__init__) method using the self keyword.\n",
        "Scope: They are only accessible within the instance of the class they belong to.\n",
        "Modification: Modifying an instance variable only affects that specific instance and does not impact other instances of the class.\n",
        "Declaration: They are declared within the constructor (__init__) method of the class, using the self keyword."
      ]
    },
    {
      "cell_type": "markdown",
      "metadata": {
        "id": "RDj4RhMUnapO"
      },
      "source": [
        "What is multiple inheritance in Python?\n",
        "- Multiple inheritance is a feature in object-oriented programming where a class can inherit from multiple parent classes. This means that the child class inherits attributes and methods from all of its parent classes.\n",
        "\n",
        "How it Works:\n",
        "\n",
        "- Inheritance Hierarchy: In multiple inheritance, you create a class that inherits from two or more parent classes.\n",
        "- Attribute and Method Resolution: When you access an attribute or method in the child class, Python searches for it in the following order:\n",
        "1.The child class itself.\n",
        "2.Its parent classes, from left to right, as they are listed in the inheritance declaration.\n",
        "3.If the attribute or method is not found in any of the parent classes, an AttributeError is raised.\n",
        "- The Diamond Problem: Multiple inheritance can lead to the \"diamond problem,\" which occurs when two parent classes have a common ancestor and the child class inherits from both. This can cause ambiguity in attribute and method resolution. Python uses a method resolution order (MRO) to resolve this ambiguity, which is based on the C3 linearization algorithm."
      ]
    },
    {
      "cell_type": "markdown",
      "metadata": {
        "id": "avAINPCPoXen"
      },
      "source": [
        "Explain the purpose of ‘’__str__’ and ‘__repr__’ ‘ methods in Python.\n",
        "- Both __str__ and __repr__ are special methods (also called \"dunder\" methods) in Python that are used to represent objects as strings. They are called by the built-in str() and repr() functions, respectively. However, they serve different purposes:\n",
        "\n",
        "__str__ Method\n",
        "\n",
        "- Purpose: The __str__ method is intended to provide a user-friendly, informal string representation of an object. It should be easily readable and understandable by humans.\n",
        "- Usage: It is typically used when you want to display the object's information in a way that is suitable for end-users or for general output. For example, when you print an object using print(object), the __str__ method is called if it is defined.\n",
        "\n"
      ]
    },
    {
      "cell_type": "markdown",
      "metadata": {
        "id": "s_ICdD-xpAmO"
      },
      "source": [
        "What is the significance of the ‘super()’ function in Python?\n",
        "- The super() function in Python is used to call methods of a parent class (superclass) from within a child class (subclass). It is primarily used in the context of inheritance.\n",
        "\n",
        "Significance and Benefits:\n",
        "\n",
        "1.Avoiding Redundancy and Code Duplication: By using super(), you can avoid rewriting the same code in the child class that is already present in the parent class. This promotes code reusability and reduces redundancy.\n",
        "\n",
        "2.Extending Functionality: super() allows you to extend the functionality of inherited methods. You can call the parent class's method using super() and then add your own custom logic in the child class's method.\n",
        "\n",
        "3.Maintaining Method Resolution Order (MRO): In cases of multiple inheritance, super() ensures that methods are called in the correct order according to the MRO. This prevents unexpected behavior and ensures that all relevant methods are executed.\n",
        "\n",
        "4.Flexibility and Maintainability: Using super() makes your code more flexible and maintainable. If you need to modify the behavior of a parent class's method, you can do so without affecting the child classes that inherit from it. You simply need to update the parent class's method, and the changes will be reflected in the child classes through super().\n",
        "\n"
      ]
    },
    {
      "cell_type": "markdown",
      "metadata": {
        "id": "Q5BZvWBln-go"
      },
      "source": [
        "What is the significance of the __del__ method in Python?\n",
        "- In Python, the __del__ method is a special method (also called a \"dunder\" method or destructor) that is called when an object is about to be destroyed or garbage collected. It is often referred to as the \"finalizer\" of an object.\n",
        "\n",
        "Significance:\n",
        "\n",
        "1.Resource Cleanup: The primary significance of the __del__ method is to perform any necessary cleanup or resource release before an object is destroyed. This is crucial for managing resources like files, network connections, or database handles that need to be explicitly closed or released to prevent leaks or errors.\n",
        "\n",
        "2.Finalization: It allows you to define actions that should be taken when an object is no longer needed, such as logging information, closing connections, or releasing locks.\n",
        "\n",
        "3.Object Lifecycle Management: It provides a mechanism to control the final stages of an object's lifecycle, ensuring that any necessary cleanup or finalization tasks are performed before the object is removed from memory."
      ]
    },
    {
      "cell_type": "markdown",
      "metadata": {
        "id": "WfpxyUcnqXEf"
      },
      "source": [
        "What is the difference between @staticmethod and @classmethod in Python?\n",
        "- Both @staticmethod and @classmethod are decorators used to define methods that are bound to a class rather than an instance of the class. However, they differ in how they interact with the class and its instances:\n",
        "\n",
        "@staticmethod\n",
        "\n",
        "- Purpose: Static methods are essentially like regular functions, but they are grouped within a class for logical organization. They do not have access to the class itself or its instances. They are independent of the class and its state.\n",
        "- Syntax:\n",
        "\n",
        "class MyClass:\n",
        "    @staticmethod\n",
        "    def my_static_method(param1, param2):\n",
        "        # Perform operations independent of the class or instance\n",
        "Use code with caution\n",
        "- Usage: Static methods are typically used for utility functions that are related to the class but do not need to access or modify its state. They are self-contained and can be called directly on the class or an instance.\n",
        "@classmethod\n",
        "\n",
        "- Purpose: Class methods are methods that are bound to the class and have access to the class itself. They can modify the class state but cannot access or modify instance attributes. They are often used as factory methods to create instances of the class in different ways."
      ]
    },
    {
      "cell_type": "markdown",
      "metadata": {
        "id": "FplBwOf6q9Fu"
      },
      "source": [
        "How does polymorphism work in Python with inheritance?\n",
        "- Polymorphism, meaning \"many forms,\" is a key concept in object-oriented programming that allows objects of different classes to be treated as objects of a common type. In Python, polymorphism is achieved through inheritance and method overriding, enabling you to write flexible and reusable code.\n",
        "\n",
        "Here's how it works:\n",
        "\n",
        "- Inheritance: A subclass inherits methods from its parent class. This establishes a relationship where the subclass can have the same methods as its parent class.\n",
        "\n",
        "- Method Overriding: A subclass can redefine a method that it inherits from its parent class. This allows the subclass to provide its own specific implementation of the method while still maintaining the same method signature.\n",
        "\n",
        "- Dynamic Binding: When a method is called on an object, Python determines the actual implementation of the method to execute based on the object's type at runtime. This is called dynamic binding or late binding.\n",
        "\n",
        "- Polymorphic Behavior: Due to dynamic binding, objects of different classes can respond differently to the same method call, exhibiting polymorphic behavior. This allows you to write generic code that can work with objects of various classes without needing to know their specific types.\n",
        "\n"
      ]
    },
    {
      "cell_type": "markdown",
      "metadata": {
        "id": "BoQhOjFLrQJu"
      },
      "source": [
        " What is method chaining in Python OOP?\n",
        " - Method chaining is a programming technique in object-oriented programming where multiple methods are called on an object in a single expression, one after the other. This is achieved by having each method return the object itself (self) so that the next method can be called directly on the returned object.\n",
        "\n",
        "- How it Works:\n",
        "\n",
        "1.Method Returns self: Each method in the chain must return the object itself (self).\n",
        "2.Chaining Calls: Subsequent methods are called directly on the returned object using the dot operator (.).\n",
        "3.Fluent Interface: Method chaining creates a fluent interface, making the code more readable and expressive."
      ]
    },
    {
      "cell_type": "markdown",
      "metadata": {
        "id": "gp-95onirtn8"
      },
      "source": [
        "What is the purpose of the __call__ method in Python?\n",
        "- In Python, the __call__ method is a special method (also called a \"dunder\" method) that enables instances of a class to be called as if they were functions. This means you can use the object of the class just like you would use a function by placing parentheses after the object name.\n",
        "\n",
        "- Purpose:\n",
        "\n",
        "The primary purpose of the __call__ method is to make objects callable, allowing them to behave like functions. This provides a way to define custom actions or behaviors that can be invoked directly on an object.\n",
        "\n",
        "- How it Works:\n",
        "\n",
        "When you define the __call__ method in a class, you can specify the actions that should be performed when an instance of the class is called. These actions can involve accessing or modifying object attributes, performing calculations, or executing other operations."
      ]
    },
    {
      "cell_type": "code",
      "execution_count": null,
      "metadata": {
        "vscode": {
          "languageId": "plaintext"
        }
      },
      "outputs": [],
      "source": [
        "# Create a parent class Animal with a method speak() that prints a generic message. Create a child class Dog that overrides the speak() method to print \"Bark!\".\n",
        "class Animal:\n",
        "    def speak(self):\n",
        "        print(\"Animal speaks\")\n",
        "\n",
        "class Dog(Animal):\n",
        "    def speak(self):\n",
        "        print(\"Dog barks\")\n",
        "\n",
        "dog = Dog()\n",
        "dog.speak()"
      ]
    },
    {
      "cell_type": "code",
      "execution_count": null,
      "metadata": {
        "vscode": {
          "languageId": "plaintext"
        }
      },
      "outputs": [],
      "source": [
        "# Write a program to create an abstract class Shape with a method area(). Derive classes Circle and Rectangle from it and implement the area() method in both.\n",
        "from abc import ABC, abstractmethod\n",
        "import math\n",
        "\n",
        "class Shape(ABC):  # Abstract base class\n",
        "    @abstractmethod\n",
        "    def area(self):\n",
        "        pass\n",
        "\n",
        "class Circle(Shape):\n",
        "    def __init__(self, radius):\n",
        "        self.radius = radius\n",
        "\n",
        "    def area(self):\n",
        "        return math.pi * self.radius**2\n",
        "\n",
        "class Rectangle(Shape):\n",
        "    def __init__(self, length, width):\n",
        "        self.length = length\n",
        "        self.width = width\n",
        "\n",
        "    def area(self):\n",
        "        return self.length * self.width\n",
        "\n",
        "# Create instances of Circle and Rectangle\n",
        "circle = Circle(5)\n",
        "rectangle = Rectangle(4, 6)\n",
        "\n",
        "# Calculate and print the areas\n",
        "print(\"Area of Circle:\", circle.area())\n",
        "print(\"Area of Rectangle:\", rectangle.area()) "
      ]
    },
    {
      "cell_type": "code",
      "execution_count": null,
      "metadata": {
        "vscode": {
          "languageId": "plaintext"
        }
      },
      "outputs": [],
      "source": [
        "#  Implement a multi-level inheritance scenario where a class Vehicle has an attribute type. Derive a class Car and further derive a class ElectricCar that adds a battery attribute.\n",
        "class Vehicle:\n",
        "    def __init__(self, type):\n",
        "        self.type = type\n",
        "\n",
        "class Car(Vehicle):\n",
        "    def __init__(self, type, model):\n",
        "        super().__init__(type)  \n",
        "        self.model = model\n",
        "\n",
        "class ElectricCar(Car):\n",
        "    def __init__(self, type, model, battery):\n",
        "        super().__init__(type, model)  \n",
        "        self.battery = battery\n",
        "\n",
        "\n",
        "vehicle = Vehicle(\"Sedan\")\n",
        "car = Car(\"SUV\", \"Toyota RAV4\")\n",
        "electric_car = ElectricCar(\"Hatchback\", \"Tesla Model 3\", \"Lithium-ion\")\n",
        "\n",
        "\n",
        "print(vehicle.type)  \n",
        "print(car.type, car.model)  \n",
        "print(electric_car.type, electric_car.model, electric_car.battery)  "
      ]
    },
    {
      "cell_type": "code",
      "execution_count": null,
      "metadata": {
        "vscode": {
          "languageId": "plaintext"
        }
      },
      "outputs": [],
      "source": [
        "# Implement a multi-level inheritance scenario where a class Vehicle has an attribute type. Derive a class Car and further derive a class ElectricCar that adds a battery attribute.\n",
        "class Vehicle:\n",
        "    def __init__(self, type):\n",
        "        self.type = type\n",
        "\n",
        "class Car(Vehicle):\n",
        "    def __init__(self, type, model):\n",
        "        super().__init__(type)  \n",
        "        self.model = model\n",
        "\n",
        "class ElectricCar(Car):\n",
        "    def __init__(self, type, model, battery):\n",
        "        super().__init__(type, model)  \n",
        "        self.battery = battery\n",
        "\n",
        "vehicle = Vehicle(\"Sedan\")\n",
        "car = Car(\"SUV\", \"Toyota RAV4\")\n",
        "electric_car = ElectricCar(\"Hatchback\", \"Tesla Model 3\", \"Lithium-ion\")\n",
        "\n",
        "print(vehicle.type)  \n",
        "print(car.type, car.model) "
      ]
    },
    {
      "cell_type": "code",
      "execution_count": null,
      "metadata": {
        "vscode": {
          "languageId": "plaintext"
        }
      },
      "outputs": [],
      "source": [
        "# Write a program to demonstrate encapsulation by creating a class BankAccount with private attributes balance and methods to deposit, withdraw, and check balance.\n",
        "class BankAccount:\n",
        "    def __init__(self, initial_balance=0):\n",
        "        self.__balance = initial_balance  # Private attribute\n",
        "    \n",
        "    def deposit(self, amount):\n",
        "        if amount > 0:\n",
        "            self.__balance += amount\n",
        "            print(f\"Deposited: ${amount:.2f}\")\n",
        "        else:\n",
        "            print(\"Deposit amount must be positive.\")\n",
        "    \n",
        "    def withdraw(self, amount):\n",
        "        if 0 < amount <= self.__balance:\n",
        "            self.__balance -= amount\n",
        "            print(f\"Withdrawn: ${amount:.2f}\")\n",
        "        else:\n",
        "            print(\"Invalid withdrawal amount or insufficient balance.\")\n",
        "    \n",
        "    def get_balance(self):\n",
        "        return self.__balance\n",
        "\n",
        "# Example usage\n",
        "account = BankAccount(100)\n",
        "account.deposit(50)\n",
        "account.withdraw(30)\n",
        "print(f\"Current Balance: ${account.get_balance():.2f}\")\n"
      ]
    },
    {
      "cell_type": "code",
      "execution_count": null,
      "metadata": {
        "vscode": {
          "languageId": "plaintext"
        }
      },
      "outputs": [],
      "source": [
        "#  Demonstrate runtime polymorphism using a method play() in a base class Instrument. Derive classes Guitar and Piano that implement their own version of play().\n",
        "class Instrument:\n",
        "    def play(self):\n",
        "        raise NotImplementedError(\"Subclass must implement abstract method\")\n",
        "\n",
        "class Guitar(Instrument):\n",
        "    def play(self):\n",
        "        print(\"Playing the Guitar: Strumming the strings!\")\n",
        "\n",
        "class Piano(Instrument):\n",
        "    def play(self):\n",
        "        print(\"Playing the Piano: Pressing the keys!\")\n",
        "\n",
        "def play_instrument(instrument):\n",
        "    instrument.play()\n",
        "\n",
        "guitar = Guitar()\n",
        "piano = Piano()\n",
        "\n",
        "play_instrument(guitar)\n",
        "play_instrument(piano)"
      ]
    },
    {
      "cell_type": "code",
      "execution_count": null,
      "metadata": {
        "vscode": {
          "languageId": "plaintext"
        }
      },
      "outputs": [],
      "source": [
        "# Create a class MathOperations with a class method add_numbers() to add two numbers and a static method subtract_numbers() to subtract two numbers.\n",
        "class MathOperations:\n",
        "    @classmethod\n",
        "    def add_numbers(cls, a, b):\n",
        "        return a + b\n",
        "\n",
        "    @staticmethod\n",
        "    def subtract_numbers(a, b):\n",
        "        return a - b\n",
        "\n",
        "sum_result = MathOperations.add_numbers(10, 5)\n",
        "diff_result = MathOperations.subtract_numbers(10, 5)\n",
        "\n",
        "print(f\"Sum: {sum_result}\")\n",
        "print(f\"Difference: {diff_result}\")"
      ]
    },
    {
      "cell_type": "code",
      "execution_count": null,
      "metadata": {
        "vscode": {
          "languageId": "plaintext"
        }
      },
      "outputs": [],
      "source": [
        "#  Implement a class Person with a class method to count the total number of persons created.\n",
        "class Person:\n",
        "    count = 0 \n",
        "    \n",
        "    def __init__(self, name):\n",
        "        self.name = name\n",
        "        Person.count += 1\n",
        "    \n",
        "    @classmethod\n",
        "    def get_person_count(cls):\n",
        "        return cls.count\n",
        "\n",
        "p1 = Person(\"Alice\")\n",
        "p2 = Person(\"Bob\")\n",
        "p3 = Person(\"Charlie\")\n",
        "\n",
        "print(f\"Total number of persons created: {Person.get_person_count()}\")\n"
      ]
    },
    {
      "cell_type": "code",
      "execution_count": null,
      "metadata": {
        "vscode": {
          "languageId": "plaintext"
        }
      },
      "outputs": [],
      "source": [
        "# Write a class Fraction with attributes numerator and denominator. Override the str method to display the fraction as \"numerator/denominator\".\n",
        "class Fraction:\n",
        "    def __init__(self, numerator, denominator):\n",
        "        if denominator == 0:\n",
        "            raise ValueError(\"Denominator cannot be zero\")\n",
        "        self.numerator = numerator\n",
        "        self.denominator = denominator\n",
        "    \n",
        "    def __str__(self):\n",
        "        return f\"{self.numerator}/{self.denominator}\"\n",
        "\n",
        "fraction1 = Fraction(3, 4)\n",
        "fraction2 = Fraction(5, 8)\n",
        "\n",
        "print(f\"Fraction 1: {fraction1}\")\n",
        "print(f\"Fraction 2: {fraction2}\")\n"
      ]
    },
    {
      "cell_type": "code",
      "execution_count": null,
      "metadata": {
        "vscode": {
          "languageId": "plaintext"
        }
      },
      "outputs": [],
      "source": [
        "#  Demonstrate operator overloading by creating a class Vector and overriding the add method to add two vectors.\n",
        "class Vector:\n",
        "    def __init__(self, x, y):\n",
        "        self.x = x\n",
        "        self.y = y\n",
        "    \n",
        "    def __add__(self, other):\n",
        "        if isinstance(other, Vector):\n",
        "            return Vector(self.x + other.x, self.y + other.y)\n",
        "        raise TypeError(\"Operand must be an instance of Vector\")\n",
        "    \n",
        "    def __str__(self):\n",
        "        return f\"Vector({self.x}, {self.y})\"\n",
        "\n",
        "v1 = Vector(2, 3)\n",
        "v2 = Vector(4, 5)\n",
        "v3 = v1 + v2\n",
        "\n",
        "print(f\"Vector 1: {v1}\")\n",
        "print(f\"Vector 2: {v2}\")\n",
        "print(f\"Sum: {v3}\")\n",
        "\n"
      ]
    },
    {
      "cell_type": "code",
      "execution_count": null,
      "metadata": {
        "vscode": {
          "languageId": "plaintext"
        }
      },
      "outputs": [],
      "source": []
    }
  ],
  "metadata": {
    "colab": {
      "provenance": []
    },
    "kernelspec": {
      "display_name": "Python 3",
      "name": "python3"
    },
    "language_info": {
      "name": "python"
    }
  },
  "nbformat": 4,
  "nbformat_minor": 0
}
